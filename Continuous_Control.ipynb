{
 "cells": [
  {
   "cell_type": "markdown",
   "metadata": {},
   "source": [
    "# Continuous Control\n",
    "\n",
    "---\n",
    "\n",
    "In this notebook, you will learn how to use the Unity ML-Agents environment for the second project of the [Deep Reinforcement Learning Nanodegree](https://www.udacity.com/course/deep-reinforcement-learning-nanodegree--nd893) program.\n",
    "\n",
    "### 1. Start the Environment\n",
    "\n",
    "We begin by importing the necessary packages.  If the code cell below returns an error, please revisit the project instructions to double-check that you have installed [Unity ML-Agents](https://github.com/Unity-Technologies/ml-agents/blob/master/docs/Installation.md) and [NumPy](http://www.numpy.org/)."
   ]
  },
  {
   "cell_type": "code",
   "execution_count": 1,
   "metadata": {
    "scrolled": false
   },
   "outputs": [],
   "source": [
    "from unityagents import UnityEnvironment\n",
    "import numpy as np\n",
    "from ddpg_agent import Agent\n",
    "from collections import deque\n",
    "import matplotlib.pyplot as plt\n",
    "import random\n",
    "import time\n",
    "import torch"
   ]
  },
  {
   "cell_type": "markdown",
   "metadata": {},
   "source": [
    "Next, we will start the environment!  **_Before running the code cell below_**, change the `file_name` parameter to match the location of the Unity environment that you downloaded.\n",
    "\n",
    "- **Mac**: `\"path/to/Reacher.app\"`\n",
    "- **Windows** (x86): `\"path/to/Reacher_Windows_x86/Reacher.exe\"`\n",
    "- **Windows** (x86_64): `\"path/to/Reacher_Windows_x86_64/Reacher.exe\"`\n",
    "- **Linux** (x86): `\"path/to/Reacher_Linux/Reacher.x86\"`\n",
    "- **Linux** (x86_64): `\"path/to/Reacher_Linux/Reacher.x86_64\"`\n",
    "- **Linux** (x86, headless): `\"path/to/Reacher_Linux_NoVis/Reacher.x86\"`\n",
    "- **Linux** (x86_64, headless): `\"path/to/Reacher_Linux_NoVis/Reacher.x86_64\"`\n",
    "\n",
    "For instance, if you are using a Mac, then you downloaded `Reacher.app`.  If this file is in the same folder as the notebook, then the line below should appear as follows:\n",
    "```\n",
    "env = UnityEnvironment(file_name=\"Reacher.app\")\n",
    "```"
   ]
  },
  {
   "cell_type": "code",
   "execution_count": 2,
   "metadata": {
    "scrolled": true
   },
   "outputs": [
    {
     "name": "stderr",
     "output_type": "stream",
     "text": [
      "INFO:unityagents:\n",
      "'Academy' started successfully!\n",
      "Unity Academy name: Academy\n",
      "        Number of Brains: 1\n",
      "        Number of External Brains : 1\n",
      "        Lesson number : 0\n",
      "        Reset Parameters :\n",
      "\t\tgoal_speed -> 1.0\n",
      "\t\tgoal_size -> 5.0\n",
      "Unity brain name: ReacherBrain\n",
      "        Number of Visual Observations (per agent): 0\n",
      "        Vector Observation space type: continuous\n",
      "        Vector Observation space size (per agent): 33\n",
      "        Number of stacked Vector Observation: 1\n",
      "        Vector Action space type: continuous\n",
      "        Vector Action space size (per agent): 4\n",
      "        Vector Action descriptions: , , , \n"
     ]
    }
   ],
   "source": [
    "env = UnityEnvironment(file_name=\"Reacher_Linux2/Reacher.x86_64\")"
   ]
  },
  {
   "cell_type": "markdown",
   "metadata": {},
   "source": [
    "Environments contain **_brains_** which are responsible for deciding the actions of their associated agents. Here we check for the first brain available, and set it as the default brain we will be controlling from Python."
   ]
  },
  {
   "cell_type": "code",
   "execution_count": 3,
   "metadata": {},
   "outputs": [],
   "source": [
    "# get the default brain\n",
    "brain_name = env.brain_names[0]\n",
    "brain = env.brains[brain_name]"
   ]
  },
  {
   "cell_type": "markdown",
   "metadata": {},
   "source": [
    "### 2. Examine the State and Action Spaces\n",
    "\n",
    "In this environment, a double-jointed arm can move to target locations. A reward of `+0.1` is provided for each step that the agent's hand is in the goal location. Thus, the goal of your agent is to maintain its position at the target location for as many time steps as possible.\n",
    "\n",
    "The observation space consists of `33` variables corresponding to position, rotation, velocity, and angular velocities of the arm.  Each action is a vector with four numbers, corresponding to torque applicable to two joints.  Every entry in the action vector must be a number between `-1` and `1`.\n",
    "\n",
    "Run the code cell below to print some information about the environment."
   ]
  },
  {
   "cell_type": "code",
   "execution_count": 4,
   "metadata": {},
   "outputs": [
    {
     "name": "stdout",
     "output_type": "stream",
     "text": [
      "Number of agents: 20\n",
      "Size of each action: 4\n",
      "There are 20 agents. Each observes a state with length: 33\n",
      "The state for the first agent looks like: [ 0.00000000e+00 -4.00000000e+00  0.00000000e+00  1.00000000e+00\n",
      " -0.00000000e+00 -0.00000000e+00 -4.37113883e-08  0.00000000e+00\n",
      "  0.00000000e+00  0.00000000e+00  0.00000000e+00  0.00000000e+00\n",
      "  0.00000000e+00  0.00000000e+00 -1.00000000e+01  0.00000000e+00\n",
      "  1.00000000e+00 -0.00000000e+00 -0.00000000e+00 -4.37113883e-08\n",
      "  0.00000000e+00  0.00000000e+00  0.00000000e+00  0.00000000e+00\n",
      "  0.00000000e+00  0.00000000e+00  5.75471878e+00 -1.00000000e+00\n",
      "  5.55726624e+00  0.00000000e+00  1.00000000e+00  0.00000000e+00\n",
      " -1.68164849e-01]\n"
     ]
    }
   ],
   "source": [
    "# reset the environment\n",
    "env_info = env.reset(train_mode=True)[brain_name]\n",
    "\n",
    "# number of agents\n",
    "num_agents = len(env_info.agents)\n",
    "print('Number of agents:', num_agents)\n",
    "\n",
    "# size of each action\n",
    "action_size = brain.vector_action_space_size\n",
    "print('Size of each action:', action_size)\n",
    "\n",
    "# examine the state space \n",
    "states = env_info.vector_observations\n",
    "state_size = states.shape[1]\n",
    "print('There are {} agents. Each observes a state with length: {}'.format(states.shape[0], state_size))\n",
    "print('The state for the first agent looks like:', states[0])"
   ]
  },
  {
   "cell_type": "markdown",
   "metadata": {},
   "source": [
    "### 3. Take Random Actions in the Environment\n",
    "\n",
    "In the next code cell, you will learn how to use the Python API to control the agent and receive feedback from the environment.\n",
    "\n",
    "Once this cell is executed, you will watch the agent's performance, if it selects an action at random with each time step.  A window should pop up that allows you to observe the agent, as it moves through the environment.  \n",
    "\n",
    "Of course, as part of the project, you'll have to change the code so that the agent is able to use its experience to gradually choose better actions when interacting with the environment!"
   ]
  },
  {
   "cell_type": "code",
   "execution_count": 6,
   "metadata": {},
   "outputs": [
    {
     "name": "stdout",
     "output_type": "stream",
     "text": [
      "Total score (averaged over agents) this episode: 0.13199999704957008\n"
     ]
    }
   ],
   "source": [
    "env_info = env.reset(train_mode=False)[brain_name]     # reset the environment    \n",
    "states = env_info.vector_observations                  # get the current state (for each agent)\n",
    "scores = np.zeros(num_agents)                          # initialize the score (for each agent)\n",
    "while True:\n",
    "    actions = np.random.randn(num_agents, action_size) # select an action (for each agent)\n",
    "    actions = np.clip(actions, -1, 1)                  # all actions between -1 and 1\n",
    "    env_info = env.step(actions)[brain_name]           # send all actions to tne environment\n",
    "    next_states = env_info.vector_observations         # get next state (for each agent)\n",
    "    rewards = env_info.rewards                         # get reward (for each agent)\n",
    "    dones = env_info.local_done                        # see if episode finished\n",
    "    scores += env_info.rewards                         # update the score (for each agent)\n",
    "    states = next_states                               # roll over states to next time step\n",
    "    if np.any(dones):                                  # exit loop if episode finished\n",
    "        break\n",
    "print('Total score (averaged over agents) this episode: {}'.format(np.mean(scores)))"
   ]
  },
  {
   "cell_type": "markdown",
   "metadata": {},
   "source": [
    "When finished, you can close the environment."
   ]
  },
  {
   "cell_type": "markdown",
   "metadata": {},
   "source": [
    "### 4. It's Your Turn!\n",
    "\n",
    "Now it's your turn to train your own agent to solve the environment!  When training the environment, set `train_mode=True`, so that the line for resetting the environment looks like the following:\n",
    "```python\n",
    "env_info = env.reset(train_mode=True)[brain_name]\n",
    "```"
   ]
  },
  {
   "cell_type": "code",
   "execution_count": 5,
   "metadata": {},
   "outputs": [],
   "source": [
    "def ddpg(n_episodes=500, max_t=1000, solved_score=30.0, consec_episodes=100, print_every=1, train_mode=True, actor_path='actor_ckpt.pth', critic_path='critic_ckpt.pth'):\n",
    "    mean_scores = []\n",
    "    best_score = -np.inf\n",
    "    scores_window = deque(maxlen=consec_episodes)\n",
    "    moving_avgs = []\n",
    "    \n",
    "    for i_episode in range(1, n_episodes+1):\n",
    "        env_info = env.reset(train_mode=train_mode)[brain_name]\n",
    "        states = env_info.vector_observations\n",
    "        scores = np.zeros(num_agents)\n",
    "        agent.reset()\n",
    "        start_time = time.time()\n",
    "        for t in range(max_t):\n",
    "            actions = agent.act(states, add_noise=True)       #select an action\n",
    "            env_info = env.step(actions)[brain_name]          #send all actions to the environment\n",
    "            next_states = env_info.vector_observations        #get current state for each agent\n",
    "            rewards = env_info.rewards\n",
    "            dones = env_info.local_done\n",
    "            for state, action, reward, next_state, done in zip(states, actions, rewards, next_states, dones):\n",
    "                agent.step(state, action, reward, next_state, done, t)\n",
    "            states = next_states\n",
    "            scores += rewards\n",
    "            if np.any(dones):\n",
    "                break\n",
    "                \n",
    "        mean_scores.append(np.mean(scores))\n",
    "        scores_window.append(mean_scores[-1])\n",
    "        moving_avgs.append(np.mean(scores_window))\n",
    "        \n",
    "        if i_episode % print_every == 0:\n",
    "            print('\\rEpisode {} -- \\tMean: {:.1f}\\tMov. Avg: {:.1f}'.format(i_episode, mean_scores[-1], moving_avgs[-1]))\n",
    "        if moving_avgs[-1] >= solved_score and i_episode >= consec_episodes:\n",
    "            print('\\n, Environment SOLVED in {} episodes!\\tMoving Average = {:.1f} over last {} episodes'.format(i_episode, moving_avgs[-1], consec_episodes))\n",
    "            if train_mode:\n",
    "                torch.save(agent.actor_local.state_dict(), actor_path)\n",
    "                torch.save(agent.critic_local.state_dict(), critic_path)\n",
    "            break\n",
    "            \n",
    "    return mean_scores, moving_avgs"
   ]
  },
  {
   "cell_type": "code",
   "execution_count": 6,
   "metadata": {
    "scrolled": true
   },
   "outputs": [
    {
     "name": "stdout",
     "output_type": "stream",
     "text": [
      "Episode 1 -- \tMean: 1.0\tMov. Avg: 1.0\n",
      "Episode 2 -- \tMean: 1.8\tMov. Avg: 1.4\n",
      "Episode 3 -- \tMean: 2.9\tMov. Avg: 1.9\n",
      "Episode 4 -- \tMean: 3.5\tMov. Avg: 2.3\n",
      "Episode 5 -- \tMean: 4.0\tMov. Avg: 2.6\n",
      "Episode 6 -- \tMean: 3.9\tMov. Avg: 2.9\n",
      "Episode 7 -- \tMean: 4.9\tMov. Avg: 3.1\n",
      "Episode 8 -- \tMean: 6.6\tMov. Avg: 3.6\n",
      "Episode 9 -- \tMean: 7.2\tMov. Avg: 4.0\n",
      "Episode 10 -- \tMean: 7.7\tMov. Avg: 4.3\n",
      "Episode 11 -- \tMean: 9.9\tMov. Avg: 4.9\n",
      "Episode 12 -- \tMean: 10.3\tMov. Avg: 5.3\n",
      "Episode 13 -- \tMean: 10.2\tMov. Avg: 5.7\n",
      "Episode 14 -- \tMean: 12.3\tMov. Avg: 6.2\n",
      "Episode 15 -- \tMean: 12.5\tMov. Avg: 6.6\n",
      "Episode 16 -- \tMean: 12.6\tMov. Avg: 7.0\n",
      "Episode 17 -- \tMean: 14.8\tMov. Avg: 7.4\n",
      "Episode 18 -- \tMean: 14.7\tMov. Avg: 7.8\n",
      "Episode 19 -- \tMean: 16.0\tMov. Avg: 8.3\n",
      "Episode 20 -- \tMean: 16.1\tMov. Avg: 8.6\n",
      "Episode 21 -- \tMean: 17.5\tMov. Avg: 9.1\n",
      "Episode 22 -- \tMean: 18.0\tMov. Avg: 9.5\n",
      "Episode 23 -- \tMean: 18.8\tMov. Avg: 9.9\n",
      "Episode 24 -- \tMean: 19.4\tMov. Avg: 10.3\n",
      "Episode 25 -- \tMean: 20.7\tMov. Avg: 10.7\n",
      "Episode 26 -- \tMean: 22.0\tMov. Avg: 11.1\n",
      "Episode 27 -- \tMean: 23.3\tMov. Avg: 11.6\n",
      "Episode 28 -- \tMean: 25.9\tMov. Avg: 12.1\n",
      "Episode 29 -- \tMean: 25.7\tMov. Avg: 12.6\n",
      "Episode 30 -- \tMean: 24.1\tMov. Avg: 12.9\n",
      "Episode 31 -- \tMean: 25.4\tMov. Avg: 13.3\n",
      "Episode 32 -- \tMean: 28.0\tMov. Avg: 13.8\n",
      "Episode 33 -- \tMean: 28.0\tMov. Avg: 14.2\n",
      "Episode 34 -- \tMean: 26.8\tMov. Avg: 14.6\n",
      "Episode 35 -- \tMean: 27.5\tMov. Avg: 15.0\n",
      "Episode 36 -- \tMean: 26.7\tMov. Avg: 15.3\n",
      "Episode 37 -- \tMean: 28.3\tMov. Avg: 15.6\n",
      "Episode 38 -- \tMean: 27.9\tMov. Avg: 16.0\n",
      "Episode 39 -- \tMean: 29.4\tMov. Avg: 16.3\n",
      "Episode 40 -- \tMean: 30.8\tMov. Avg: 16.7\n",
      "Episode 41 -- \tMean: 30.1\tMov. Avg: 17.0\n",
      "Episode 42 -- \tMean: 32.3\tMov. Avg: 17.4\n",
      "Episode 43 -- \tMean: 33.0\tMov. Avg: 17.7\n",
      "Episode 44 -- \tMean: 32.9\tMov. Avg: 18.1\n",
      "Episode 45 -- \tMean: 34.0\tMov. Avg: 18.4\n",
      "Episode 46 -- \tMean: 35.6\tMov. Avg: 18.8\n",
      "Episode 47 -- \tMean: 34.9\tMov. Avg: 19.1\n",
      "Episode 48 -- \tMean: 35.1\tMov. Avg: 19.5\n",
      "Episode 49 -- \tMean: 36.0\tMov. Avg: 19.8\n",
      "Episode 50 -- \tMean: 36.2\tMov. Avg: 20.1\n",
      "Episode 51 -- \tMean: 37.1\tMov. Avg: 20.5\n",
      "Episode 52 -- \tMean: 36.3\tMov. Avg: 20.8\n",
      "Episode 53 -- \tMean: 36.1\tMov. Avg: 21.1\n",
      "Episode 54 -- \tMean: 36.8\tMov. Avg: 21.4\n",
      "Episode 55 -- \tMean: 36.8\tMov. Avg: 21.6\n",
      "Episode 56 -- \tMean: 36.4\tMov. Avg: 21.9\n",
      "Episode 57 -- \tMean: 38.1\tMov. Avg: 22.2\n",
      "Episode 58 -- \tMean: 38.1\tMov. Avg: 22.5\n",
      "Episode 59 -- \tMean: 38.3\tMov. Avg: 22.7\n",
      "Episode 60 -- \tMean: 38.4\tMov. Avg: 23.0\n",
      "Episode 61 -- \tMean: 39.2\tMov. Avg: 23.3\n",
      "Episode 62 -- \tMean: 39.1\tMov. Avg: 23.5\n",
      "Episode 63 -- \tMean: 39.3\tMov. Avg: 23.8\n",
      "Episode 64 -- \tMean: 38.5\tMov. Avg: 24.0\n",
      "Episode 65 -- \tMean: 38.7\tMov. Avg: 24.2\n",
      "Episode 66 -- \tMean: 38.7\tMov. Avg: 24.4\n",
      "Episode 67 -- \tMean: 38.3\tMov. Avg: 24.6\n",
      "Episode 68 -- \tMean: 38.5\tMov. Avg: 24.8\n",
      "Episode 69 -- \tMean: 39.0\tMov. Avg: 25.1\n",
      "Episode 70 -- \tMean: 39.4\tMov. Avg: 25.3\n",
      "Episode 71 -- \tMean: 39.3\tMov. Avg: 25.5\n",
      "Episode 72 -- \tMean: 39.3\tMov. Avg: 25.6\n",
      "Episode 73 -- \tMean: 38.9\tMov. Avg: 25.8\n",
      "Episode 74 -- \tMean: 38.9\tMov. Avg: 26.0\n",
      "Episode 75 -- \tMean: 38.9\tMov. Avg: 26.2\n",
      "Episode 76 -- \tMean: 37.3\tMov. Avg: 26.3\n",
      "Episode 77 -- \tMean: 37.8\tMov. Avg: 26.5\n",
      "Episode 78 -- \tMean: 38.3\tMov. Avg: 26.6\n",
      "Episode 79 -- \tMean: 38.7\tMov. Avg: 26.8\n",
      "Episode 80 -- \tMean: 39.0\tMov. Avg: 26.9\n",
      "Episode 81 -- \tMean: 38.4\tMov. Avg: 27.1\n",
      "Episode 82 -- \tMean: 38.5\tMov. Avg: 27.2\n",
      "Episode 83 -- \tMean: 37.8\tMov. Avg: 27.3\n",
      "Episode 84 -- \tMean: 38.2\tMov. Avg: 27.5\n",
      "Episode 85 -- \tMean: 38.4\tMov. Avg: 27.6\n",
      "Episode 86 -- \tMean: 38.4\tMov. Avg: 27.7\n",
      "Episode 87 -- \tMean: 38.1\tMov. Avg: 27.8\n",
      "Episode 88 -- \tMean: 38.2\tMov. Avg: 28.0\n",
      "Episode 89 -- \tMean: 38.5\tMov. Avg: 28.1\n",
      "Episode 90 -- \tMean: 38.1\tMov. Avg: 28.2\n",
      "Episode 91 -- \tMean: 39.0\tMov. Avg: 28.3\n",
      "Episode 92 -- \tMean: 37.9\tMov. Avg: 28.4\n",
      "Episode 93 -- \tMean: 38.4\tMov. Avg: 28.5\n",
      "Episode 94 -- \tMean: 38.6\tMov. Avg: 28.6\n",
      "Episode 95 -- \tMean: 37.4\tMov. Avg: 28.7\n",
      "Episode 96 -- \tMean: 38.7\tMov. Avg: 28.8\n",
      "Episode 97 -- \tMean: 37.7\tMov. Avg: 28.9\n",
      "Episode 98 -- \tMean: 37.7\tMov. Avg: 29.0\n",
      "Episode 99 -- \tMean: 38.2\tMov. Avg: 29.1\n",
      "Episode 100 -- \tMean: 38.6\tMov. Avg: 29.2\n",
      "Episode 101 -- \tMean: 38.4\tMov. Avg: 29.6\n",
      "Episode 102 -- \tMean: 38.6\tMov. Avg: 29.9\n",
      "Episode 103 -- \tMean: 38.0\tMov. Avg: 30.3\n",
      "\n",
      ", Environment SOLVED in 3 episodes!\tMoving Average = 30.3 over last 100 episodes\n"
     ]
    }
   ],
   "source": [
    "agent = Agent(state_size=state_size, action_size=action_size, random_seed=1)\n",
    "scores, avgs = ddpg()"
   ]
  },
  {
   "cell_type": "code",
   "execution_count": 7,
   "metadata": {},
   "outputs": [
    {
     "data": {
      "image/png": "[encoded data removed]",
      "text/plain": [
       "<Figure size 432x288 with 1 Axes>"
      ]
     },
     "metadata": {
      "needs_background": "light"
     },
     "output_type": "display_data"
    }
   ],
   "source": [
    "fig = plt.figure()\n",
    "ax = fig.add_subplot(111)\n",
    "plt.plot(np.arange(len(scores)), scores, label='DDPG')\n",
    "plt.plot(np.arange(len(scores)), avgs, c='r', label='moving avg')\n",
    "plt.ylabel('Score')\n",
    "plt.xlabel('Episode #')\n",
    "plt.legend(loc='upper left');\n",
    "plt.show()"
   ]
  },
  {
   "cell_type": "code",
   "execution_count": 8,
   "metadata": {
    "scrolled": true
   },
   "outputs": [],
   "source": [
    "env.close()"
   ]
  },
  {
   "cell_type": "code",
   "execution_count": null,
   "metadata": {},
   "outputs": [],
   "source": []
  }
 ],
 "metadata": {
  "kernelspec": {
   "display_name": "Python 3",
   "language": "python",
   "name": "python3"
  },
  "language_info": {
   "codemirror_mode": {
    "name": "ipython",
    "version": 3
   },
   "file_extension": ".py",
   "mimetype": "text/x-python",
   "name": "python",
   "nbconvert_exporter": "python",
   "pygments_lexer": "ipython3",
   "version": "3.7.4"
  }
 },
 "nbformat": 4,
 "nbformat_minor": 2
}
